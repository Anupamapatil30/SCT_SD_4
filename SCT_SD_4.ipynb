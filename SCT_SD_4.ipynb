{
  "nbformat": 4,
  "nbformat_minor": 0,
  "metadata": {
    "colab": {
      "provenance": []
    },
    "kernelspec": {
      "name": "python3",
      "display_name": "Python 3"
    },
    "language_info": {
      "name": "python"
    }
  },
  "cells": [
    {
      "cell_type": "code",
      "source": [
        "import requests\n",
        "from bs4 import BeautifulSoup\n",
        "import csv\n",
        "\n",
        "# URL of the e-commerce website to scrape\n",
        "url = \"https://webscraper.io/test-sites/e-commerce/allinone/computers/tablets\"\n",
        "r = requests.get(url)\n",
        "\n",
        "soup = BeautifulSoup(r.text, \"lxml\")\n",
        "\n",
        "# Find product names and prices\n",
        "names = soup.find_all(\"a\", class_=\"title\")\n",
        "prices = soup.find_all(\"h4\", class_=\"pull-right price\")\n",
        "ratings = soup.find_all(\"p\", class_=\"pull-right\")\n",
        "\n",
        "# Initialize lists to store data\n",
        "product_data = []\n",
        "\n",
        "for name, price, rating in zip(names, prices, ratings):\n",
        "    product_name = name.text.strip()\n",
        "    product_price = price.text.strip()\n",
        "    product_rating = rating.text.strip()\n",
        "    product_data.append([product_name, product_price, product_rating])\n",
        "\n",
        "# Specify the filename for the CSV file\n",
        "csv_filename = \"product_data.csv\"\n",
        "\n",
        "# Save data to CSV\n",
        "with open(csv_filename, 'w', newline='') as csvfile:\n",
        "    csv_writer = csv.writer(csvfile)\n",
        "    csv_writer.writerow([\"Product Name\", \"Product Price\", \"Product Rating\"])\n",
        "\n",
        "    for data in product_data:\n",
        "        csv_writer.writerow(data)\n",
        "\n",
        "print(f\"Data successfully scraped and saved to {csv_filename}\")"
      ],
      "metadata": {
        "id": "-nIKLzqgt7q8",
        "outputId": "073ee1d0-5bf5-4411-bd3d-7ab530d4cd48",
        "colab": {
          "base_uri": "https://localhost:8080/"
        }
      },
      "execution_count": null,
      "outputs": [
        {
          "output_type": "stream",
          "name": "stdout",
          "text": [
            "Data successfully scraped and saved to product_data.csv\n"
          ]
        }
      ]
    }
  ]
}